{
 "cells": [
  {
   "cell_type": "markdown",
   "id": "4f221f46",
   "metadata": {},
   "source": [
    "# Transformation des données"
   ]
  },
  {
   "cell_type": "code",
   "execution_count": null,
   "id": "9b0136c2",
   "metadata": {},
   "outputs": [],
   "source": [
    "import pandas as pd\n",
    "df_icu = pd.read_csv('data01.csv')\n",
    "df_icu.head()"
   ]
  },
  {
   "cell_type": "markdown",
   "id": "defd07e7",
   "metadata": {},
   "source": [
    "###  Valeurs Manquentes (outcome)"
   ]
  },
  {
   "cell_type": "code",
   "execution_count": null,
   "id": "9491f613",
   "metadata": {},
   "outputs": [],
   "source": [
    "# Drop any Nan from the outcome column\n",
    "df_icu = df_icu.dropna(subset=['outcome'])"
   ]
  },
  {
   "cell_type": "code",
   "execution_count": null,
   "id": "fb58bcb9",
   "metadata": {},
   "outputs": [],
   "source": [
    "#divide between Y and X\n",
    "y = df_icu.iloc[:,2:3]\n",
    "X = df_icu.iloc[:,3:]"
   ]
  },
  {
   "cell_type": "code",
   "execution_count": null,
   "id": "617df727",
   "metadata": {},
   "outputs": [],
   "source": [
    "imputed_X"
   ]
  },
  {
   "cell_type": "code",
   "execution_count": null,
   "id": "d38585d4",
   "metadata": {},
   "outputs": [],
   "source": [
    "from sklearn.model_selection import train_test_split\n",
    "X_train, X_test, y_train, y_test = train_test_split(X, y, test_size=0.20, random_state = 2021)"
   ]
  },
  {
   "cell_type": "markdown",
   "id": "6ee93a28",
   "metadata": {},
   "source": [
    "### SCALING"
   ]
  },
  {
   "cell_type": "code",
   "execution_count": null,
   "id": "e7752462",
   "metadata": {},
   "outputs": [],
   "source": [
    "import numpy as np\n",
    "from sklearn.preprocessing import StandardScaler\n",
    "ss = StandardScaler()\n",
    "X_train_scaled = ss.fit_transform(X_train)\n",
    "X_test_scaled = ss.transform(X_test)\n",
    "y_train = np.array(y_train)"
   ]
  }
 ],
 "metadata": {
  "kernelspec": {
   "display_name": "Python 3 (ipykernel)",
   "language": "python",
   "name": "python3"
  },
  "language_info": {
   "codemirror_mode": {
    "name": "ipython",
    "version": 3
   },
   "file_extension": ".py",
   "mimetype": "text/x-python",
   "name": "python",
   "nbconvert_exporter": "python",
   "pygments_lexer": "ipython3",
   "version": "3.9.12"
  }
 },
 "nbformat": 4,
 "nbformat_minor": 5
}
